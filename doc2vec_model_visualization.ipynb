{
 "cells": [
  {
   "cell_type": "code",
   "execution_count": 1,
   "metadata": {},
   "outputs": [
    {
     "name": "stdout",
     "output_type": "stream",
     "text": [
      "Model loaded\n"
     ]
    }
   ],
   "source": [
    "# Load our word2vec model\n",
    "import gensim\n",
    "d2v_model = gensim.models.doc2vec.Doc2Vec.load(\"youtube_data1.d2v\")\n",
    "print(\"Model loaded\")"
   ]
  },
  {
   "cell_type": "code",
   "execution_count": 2,
   "metadata": {},
   "outputs": [
    {
     "data": {
      "text/plain": [
       "2238"
      ]
     },
     "execution_count": 2,
     "metadata": {},
     "output_type": "execute_result"
    }
   ],
   "source": [
    "# the total number of documents and their vectors (iteratable)\n",
    "len(d2v_model.docvecs)"
   ]
  },
  {
   "cell_type": "code",
   "execution_count": 3,
   "metadata": {},
   "outputs": [
    {
     "data": {
      "text/plain": [
       "500"
      ]
     },
     "execution_count": 3,
     "metadata": {},
     "output_type": "execute_result"
    }
   ],
   "source": [
    "len(d2v_model.docvecs[0])"
   ]
  },
  {
   "cell_type": "code",
   "execution_count": 17,
   "metadata": {},
   "outputs": [],
   "source": [
    "import numpy as np\n",
    "result = np.load('result.npy')"
   ]
  },
  {
   "cell_type": "code",
   "execution_count": 26,
   "metadata": {},
   "outputs": [],
   "source": [
    "key_list = []\n",
    "for i in range(10):\n",
    "    key_list.append(result[i][0])\n"
   ]
  },
  {
   "cell_type": "code",
   "execution_count": 27,
   "metadata": {
    "scrolled": false
   },
   "outputs": [
    {
     "name": "stdout",
     "output_type": "stream",
     "text": [
      "\n",
      "\n",
      "\n",
      "\n",
      "\n",
      "\n",
      "\n",
      "\n",
      "\n",
      "\n",
      "\n",
      "\n",
      "\n",
      "\n",
      "\n",
      "\n",
      "\n",
      "\n",
      "\n",
      "\n"
     ]
    },
    {
     "name": "stderr",
     "output_type": "stream",
     "text": [
      "/home/dmmlasu/.local/lib/python2.7/site-packages/ipykernel_launcher.py:4: DeprecationWarning: Call to deprecated `most_similar` (Method will be removed in 4.0.0, use self.wv.most_similar() instead).\n",
      "  after removing the cwd from sys.path.\n"
     ]
    }
   ],
   "source": [
    "topic_list = []\n",
    "for i in range(10):\n",
    "    docvecexam = d2v_model.docvecs[i]\n",
    "    similarWords = d2v_model.most_similar(positive = [docvecexam],topn=30)\n",
    "    str = \"\"\n",
    "    for j,k in similarWords:\n",
    "        str = str+j+\" \" \n",
    "    topic_list.append(str)\n",
    "    print(\"\\n\")\n",
    "result = list(zip(key_list,topic_list))    "
   ]
  },
  {
   "cell_type": "code",
   "execution_count": 28,
   "metadata": {},
   "outputs": [
    {
     "data": {
      "text/plain": [
       "[('XpVt6Z1Gjjo',\n",
       "  'paulers ncomment logan wassup subscribers cloverfield logans jake poundsanvil fam paul sergeant_recklessmy subs meilleur bro wtffffff njake carnicera ucua6nxfszepanlqpxjjtxsw ucyemu5x3bbdeuezli6i2mqg arnolds neiva bruh hansen 257 bcannady100 30k rrstem trendingtrending litteraly '),\n",
       " ('cLdxuaxaQwc',\n",
       "  'racist hateful racism slurs revisen voters colombianos descomplique sexist neiva divinasanta blacks ardiente hypocritical intelligently orible porquera ignorant valdr laurat carnicera privilege ntomarnos sexism sintetico nsignificado pocos politicians silvestre conservatives '),\n",
       " ('WYYvHb03Eog',\n",
       "  'charging wireless samsung fingerprint android lg phones oled 64gb s8 ios niphone s7 charger 6s v30 iphone 7plus 999 phone 8s 2fapple htc computers flagship octa 2fitm cable apps 1300 '),\n",
       " ('sjlHnJvXdQs',\n",
       "  'samsung android fingerprint flagship charging niphone 999 64gb wireless htc lg 1300 ios 2fapple v30 oled sony jackwhy portable s7 _candy s8 grey_ xperia 2fitm charger 8s fritter 7s 12w '),\n",
       " ('cMKX2tE5Luk',\n",
       "  'peur wiseau punisher writer oldman gnero porg cannes travolta funnyhmm doremon movie thriller interstellar ncruzar prequel hahaha4k sequel timo lollllllllllllllllllllllthis carnicera b0761m51w9 marvel neiva gramado soundtrack 30205 aplle desconfias kingsman '),\n",
       " ('8wNr-NQImFg',\n",
       "  'socialist corporate barack meyers leftist nmount voters clinton democrat organizes shill corrupt marxist npelosi npro 2oqpydrm76quseful democratic bernie republican bahahah 140702 alleged pos bashing administration cosby valdr propublica ncanadian ineffectual '),\n",
       " ('_HTXMhKWqnA',\n",
       "  'wireless samsung charging fingerprint android lg oled ios 64gb s8 v30 octa phones charger niphone phone s7 flagship cable htc portable 2fapple pixel s6 sensor ps4 7plus galaxy computers iphone '),\n",
       " ('_ANP3HR1jsM',\n",
       "  'harpoon moose hilariousaww reginaaaaa onfake squaddvlog ijustines romanatwood caribe impactar hairy ei9egdnroi8 pong hatchet lleno ct88ke06yvmhttps merrel carga seran caoimhe laurdiy axes criedmad squadvlog disquera hailey 2q54gip6lk4ben sinti ztmlnc4jzpohttp jakes '),\n",
       " ('zgLtEob6X-Q',\n",
       "  'ninjago transformers scorch knightplease nstranger riqueza nolan suckedit punisher ridge homecoming porg moviecan rasputin gert pteam godzilla peur kingsman runner moviedo smurf imran albertpike spiderman gonjejdhqpgheadlights hahaha4k thriller mulan kombat '),\n",
       " ('Ayb_2qbZHm4',\n",
       "  'college dropout tropicales nsignificado valdr divinasanta neiva campin ntomarnos electoral colombianos carnicera descomplique laurat revisen ceux pagaban rescatando ywzylpyquz8 aire sintetico hawaii construction biology annel ardiente respiras ethot pocos student ')]"
      ]
     },
     "execution_count": 28,
     "metadata": {},
     "output_type": "execute_result"
    }
   ],
   "source": [
    "result"
   ]
  }
 ],
 "metadata": {
  "kernelspec": {
   "display_name": "Python 2",
   "language": "python",
   "name": "python2"
  },
  "language_info": {
   "codemirror_mode": {
    "name": "ipython",
    "version": 2
   },
   "file_extension": ".py",
   "mimetype": "text/x-python",
   "name": "python",
   "nbconvert_exporter": "python",
   "pygments_lexer": "ipython2",
   "version": "2.7.15"
  }
 },
 "nbformat": 4,
 "nbformat_minor": 2
}
